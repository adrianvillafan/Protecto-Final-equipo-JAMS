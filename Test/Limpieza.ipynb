{
  "nbformat": 4,
  "nbformat_minor": 0,
  "metadata": {
    "colab": {
      "provenance": []
    },
    "kernelspec": {
      "name": "python3",
      "display_name": "Python 3"
    },
    "language_info": {
      "name": "python"
    }
  },
  "cells": [
    {
      "cell_type": "code",
      "execution_count": null,
      "metadata": {
        "id": "rXnsGySm3bBZ"
      },
      "outputs": [],
      "source": [
        "import pandas as pd\n",
        "from IPython.display import display"
      ]
    },
    {
      "cell_type": "code",
      "source": [
        "# Reemplaza 'ruta_del_archivo.xlsx' con la ruta de tu archivo original\n",
        "ruta_archivo = 'BM-00101-en2024.xlsx'\n",
        "\n",
        "# Lee la cuarta hoja del archivo Excel (índice 3)\n",
        "df = pd.read_excel(ruta_archivo, sheet_name=3)"
      ],
      "metadata": {
        "id": "J690FgFd3g5I"
      },
      "execution_count": null,
      "outputs": []
    },
    {
      "cell_type": "code",
      "source": [
        "# Cambia el valor de la columna 'Volver al Índice' en las filas específicas\n",
        "df.at[df.index[4], 'Volver al Índice'] = 'ACTIVO'\n",
        "df.at[df.index[5], 'Volver al Índice'] = 'Moneda_A'\n",
        "df.at[df.index[71], 'Volver al Índice'] = 'PASIVO'\n",
        "df.at[df.index[72], 'Volver al Índice'] = 'Moneda_P'"
      ],
      "metadata": {
        "id": "mk-SGGEt3l4H"
      },
      "execution_count": null,
      "outputs": []
    },
    {
      "cell_type": "code",
      "source": [
        "# Filtrar las filas donde el valor en la columna 'Volver al Índice' es 'Activo', 'Moneda_A', 'DISPONIBLE', etc.\n",
        "df_Activo = df[df['Volver al Índice'].isin(['ACTIVO', 'Moneda_A', 'DISPONIBLE',\n",
        "                                            'INVERSIONES NETAS DE PROVISIONES',\n",
        "                                            'CRÉDITOS NETOS DE PROVISIONES Y DE INGRESOS NO DEVENGADOS',\n",
        "                                            'CUENTAS POR COBRAR NETAS DE PROVISIONES',\n",
        "                                            'RENDIMIENTOS POR COBRAR',\n",
        "                                            'BIENES REALIZABLES, RECIBIDOS EN PAGO Y ADJUDICADOS NETOS',\n",
        "                                            'INMUEBLES, MOBILIARIO Y EQUIPO NETO',\n",
        "                                            'OTROS  ACTIVOS',\n",
        "                                            'PASIVO', 'Moneda_P', 'OBLIGACIONES CON EL PÚBLICO',\n",
        "                                            'DEPÓSITOS DEL SISTEMA FINANCIERO Y ORGANISMOS INTERNACIONALES',\n",
        "                                            'ADEUDOS Y OBLIGACIONES  FINANCIERAS',\n",
        "                                            'OBLIGACIONES EN CIRCULACIÓN NO SUBORDINADAS',\n",
        "                                            'INTERESES Y OTROS GASTOS  POR PAGAR',\n",
        "                                            'PATRIMONIO',\n",
        "                                            'CONTINGENTES'])]"
      ],
      "metadata": {
        "id": "Ua27awh_3psP"
      },
      "execution_count": null,
      "outputs": []
    },
    {
      "cell_type": "code",
      "source": [
        "# Elimina las columnas que están completamente vacías (sin ningún valor)\n",
        "df_Activo = df_Activo.dropna(axis=1, how='all')\n",
        "\n",
        "# Identifica las columnas que contienen la palabra \"TOTAL\" en la fila 2\n",
        "columns_to_drop = df_Activo.columns[df_Activo.iloc[1].astype(str).str.contains('TOTAL')]\n",
        "\n",
        "# Elimina las columnas identificadas\n",
        "df_Activo = df_Activo.drop(columns_to_drop, axis=1)\n",
        "\n",
        "# Identifica las columnas que contienen la palabra \"Activo\" en la fila 2\n",
        "columns_drop = df_Activo.columns[df_Activo.iloc[0].astype(str).str.contains('Activo')]\n",
        "\n",
        "# Elimina las columnas identificadas\n",
        "df_Activo = df_Activo.drop(columns_drop, axis=1)"
      ],
      "metadata": {
        "id": "mXEima-i31Ls"
      },
      "execution_count": null,
      "outputs": []
    },
    {
      "cell_type": "code",
      "source": [
        "# Nombre del archivo Excel donde se guardará el DataFrame df_Activo\n",
        "ruta_nuevo_excel = 'New_Data.xlsx'\n",
        "\n",
        "# Guarda el DataFrame df_Activo en un nuevo archivo Excel\n",
        "df_Activo.to_excel(ruta_nuevo_excel, index=False)\n",
        "\n",
        "# Muestra las primeras 15 filas y 6 columnas del DataFrame df_Activo\n",
        "#display(df_Activo.iloc[1:10, :6])\n",
        "display(df.iloc[1:10, :1])"
      ],
      "metadata": {
        "id": "iYY9I_ix35y7"
      },
      "execution_count": null,
      "outputs": []
    }
  ]
}